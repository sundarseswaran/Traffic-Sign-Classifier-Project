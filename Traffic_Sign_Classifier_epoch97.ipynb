{
 "cells": [
  {
   "cell_type": "markdown",
   "metadata": {},
   "source": [
    "# Self-Driving Car Engineer Nanodegree\n",
    "\n",
    "## Deep Learning\n",
    "\n",
    "## Project: Build a Traffic Sign Recognition Classifier\n"
   ]
  },
  {
   "cell_type": "markdown",
   "metadata": {},
   "source": [
    "---\n",
    "## Step 0: Load The Data"
   ]
  },
  {
   "cell_type": "code",
   "execution_count": 1,
   "metadata": {
    "collapsed": true
   },
   "outputs": [],
   "source": [
    "import numpy as np\n",
    "from random import randint\n",
    "import pandas as pd\n",
    "import tensorflow as tf"
   ]
  },
  {
   "cell_type": "code",
   "execution_count": 2,
   "metadata": {
    "collapsed": false
   },
   "outputs": [
    {
     "name": "stdout",
     "output_type": "stream",
     "text": [
      "3.5.2 | packaged by conda-forge | (default, Jan 19 2017, 15:28:33) \n",
      "[GCC 4.8.2 20140120 (Red Hat 4.8.2-15)]\n"
     ]
    }
   ],
   "source": [
    "# Load pickled data\n",
    "import pickle\n",
    "import sys\n",
    "print(sys.version)\n",
    "\n",
    "training_file = './traffic-signs-data/train.p'\n",
    "testing_file = './traffic-signs-data/test.p'\n",
    "\n",
    "with open(training_file, mode='rb') as f:\n",
    "    train = pickle.load(f)\n",
    "with open(testing_file, mode='rb') as f:\n",
    "    test = pickle.load(f)\n",
    "\n",
    "# Reserve 30% of the available test samples for training sessions\n",
    "from sklearn.model_selection import train_test_split\n",
    "X_train, X_validation, y_train, y_validation = train_test_split(train['features'], train['labels'], test_size=0.3, random_state=42)\n",
    "X_test, y_test = test['features'], test['labels']"
   ]
  },
  {
   "cell_type": "markdown",
   "metadata": {},
   "source": [
    "---\n",
    "\n",
    "## Step 1: Dataset Summary & Exploration\n",
    "\n",
    "### Input Summary"
   ]
  },
  {
   "cell_type": "code",
   "execution_count": 3,
   "metadata": {
    "collapsed": false
   },
   "outputs": [
    {
     "name": "stdout",
     "output_type": "stream",
     "text": [
      "Number of training examples = 24359\n",
      "Number of testing examples = 12630\n",
      "Number of validation examples = 10440\n",
      "Image data shape = (32, 32, 3)\n",
      "Number of classes = 43\n"
     ]
    }
   ],
   "source": [
    "### Replace each question mark with the appropriate value.\n",
    "\n",
    "n_train = X_train.shape[0]\n",
    "n_test = X_test.shape[0]\n",
    "n_valid = X_validation.shape[0]\n",
    "image_shape = X_train[0].shape\n",
    "n_classes = len(np.unique(y_train))\n",
    "\n",
    "print(\"Number of training examples =\", n_train)\n",
    "print(\"Number of testing examples =\", n_test)\n",
    "print(\"Number of validation examples =\", n_valid)\n",
    "print(\"Image data shape =\", image_shape)\n",
    "print(\"Number of classes =\", n_classes)"
   ]
  },
  {
   "cell_type": "markdown",
   "metadata": {},
   "source": [
    "### Verify Dataset against Labels"
   ]
  },
  {
   "cell_type": "code",
   "execution_count": 4,
   "metadata": {
    "collapsed": false
   },
   "outputs": [
    {
     "data": {
      "text/plain": [
       "<matplotlib.text.Text at 0x7f2dc0d84978>"
      ]
     },
     "execution_count": 4,
     "metadata": {},
     "output_type": "execute_result"
    },
    {
     "data": {
      "image/png": "[encoded data removed]",
      "text/plain": [
       "<matplotlib.figure.Figure at 0x7f2ddd1d52e8>"
      ]
     },
     "metadata": {},
     "output_type": "display_data"
    }
   ],
   "source": [
    "import matplotlib.pyplot as plt\n",
    "%matplotlib inline\n",
    "\n",
    "# Load corresponding sign-names for the labels\n",
    "SignNames = pd.read_csv('./signnames.csv')\n",
    "\n",
    "# Display random images from the input dataset\n",
    "idx = randint(0,len(X_train) - 1)\n",
    "plt.imshow(X_train[idx])\n",
    "\n",
    "# Identify picture sign-names\n",
    "SignName = SignNames[SignNames['ClassId'] == y_train[idx]]['SignName'].values[0]\n",
    "plt.title(SignName)"
   ]
  },
  {
   "cell_type": "code",
   "execution_count": 5,
   "metadata": {
    "collapsed": false
   },
   "outputs": [
    {
     "data": {
      "text/plain": [
       "<Container object of 43 artists>"
      ]
     },
     "execution_count": 5,
     "metadata": {},
     "output_type": "execute_result"
    },
    {
     "data": {
      "image/png": "[encoded data removed]",
      "text/plain": [
       "<matplotlib.figure.Figure at 0x7f2ddd1d0908>"
      ]
     },
     "metadata": {},
     "output_type": "display_data"
    }
   ],
   "source": [
    "# Its common to have different number of input samples for every label\n",
    "unique, unique_counts = np.unique(y_train, return_counts=True)\n",
    "plt.bar(unique, unique_counts)"
   ]
  },
  {
   "cell_type": "markdown",
   "metadata": {},
   "source": [
    "---\n",
    "## Step 2: Dataset Augmentation\n",
    "\n",
    "Dataset augmentation is very essential to improve performance of the Perceptron (Classification step) in a neural network. Apparently data augmentation in data-space is much performant that augmentation in feature-space [1].\n",
    "```\n",
    "REFERENCE\n",
    "1) Understanding data augmentation for classification: when to warp?. Site: https://arxiv.org/pdf/1609.08764.pdf\n",
    "```"
   ]
  },
  {
   "cell_type": "code",
   "execution_count": 6,
   "metadata": {
    "collapsed": true
   },
   "outputs": [],
   "source": [
    "## Generate more image samples by rotating, shearing, translating, augmenting brightness of a picture\n",
    "## This code is stolen from Vivek Yadav, because I'm lazy ;p\n",
    "## Link: https://github.com/vxy10/ImageAugmentation\n",
    "import matplotlib.gridspec as gridspec\n",
    "import cv2\n",
    "import matplotlib.image as mpimg\n",
    "\n",
    "def augment_brightness_camera_images(image):\n",
    "    image1 = cv2.cvtColor(image,cv2.COLOR_RGB2HSV)\n",
    "    random_bright = .25+np.random.uniform()\n",
    "    #print(random_bright)\n",
    "    image1[:,:,2] = image1[:,:,2]*random_bright\n",
    "    image1 = cv2.cvtColor(image1,cv2.COLOR_HSV2RGB)\n",
    "    return image1\n",
    "\n",
    "def transform_image(img, ang_range=20, shear_range=10, trans_range=5, brightness=1):\n",
    "    '''\n",
    "    This function transforms images to generate new images.\n",
    "    The function takes in following arguments,\n",
    "    \n",
    "    ang_range: Range of angles for rotation\n",
    "    shear_range: Range of values to apply affine transform to\n",
    "    trans_range: Range of values to apply translations over.\n",
    "    brightness: Flag for brigtness updates\n",
    "\n",
    "    '''\n",
    "    # Rotation\n",
    "    ang_rot = np.random.uniform(ang_range)-ang_range/2\n",
    "    rows,cols,ch = img.shape    \n",
    "    Rot_M = cv2.getRotationMatrix2D((cols/2,rows/2),ang_rot,1)\n",
    "\n",
    "    # Translation\n",
    "    tr_x = trans_range*np.random.uniform()-trans_range/2\n",
    "    tr_y = trans_range*np.random.uniform()-trans_range/2\n",
    "    Trans_M = np.float32([[1,0,tr_x],[0,1,tr_y]])\n",
    "\n",
    "    # Shear\n",
    "    pts1 = np.float32([[5,5],[20,5],[5,20]])\n",
    "\n",
    "    pt1 = 5+shear_range*np.random.uniform()-shear_range/2\n",
    "    pt2 = 20+shear_range*np.random.uniform()-shear_range/2\n",
    "\n",
    "    pts2 = np.float32([[pt1,5],[pt2,pt1],[5,pt2]])\n",
    "\n",
    "    shear_M = cv2.getAffineTransform(pts1,pts2)\n",
    "\n",
    "    img = cv2.warpAffine(img,Rot_M,(cols,rows))\n",
    "    img = cv2.warpAffine(img,Trans_M,(cols,rows))\n",
    "    img = cv2.warpAffine(img,shear_M,(cols,rows))\n",
    "\n",
    "    # Brightness\n",
    "    if brightness == 1:\n",
    "      img = augment_brightness_camera_images(img)\n",
    "\n",
    "    return img"
   ]
  },
  {
   "cell_type": "code",
   "execution_count": 7,
   "metadata": {
    "collapsed": false
   },
   "outputs": [
    {
     "data": {
      "image/png": "[encoded data removed]",
      "text/plain": [
       "<matplotlib.figure.Figure at 0x7f2dc0c19b38>"
      ]
     },
     "metadata": {},
     "output_type": "display_data"
    }
   ],
   "source": [
    "## examine the results\n",
    "gs1 = gridspec.GridSpec(5, 5)\n",
    "gs1.update(wspace=0.005, hspace=0.01) # set the spacing between axes.\n",
    "plt.figure(figsize=(12,12))\n",
    "for i in range(25):\n",
    "    ax1 = plt.subplot(gs1[i])\n",
    "    ax1.set_xticklabels([])\n",
    "    ax1.set_yticklabels([])\n",
    "    ax1.set_aspect('equal')\n",
    "    img = transform_image(X_train[0])\n",
    "\n",
    "    plt.subplot(5,5,i+1)\n",
    "    plt.imshow(img)\n",
    "    plt.axis('off')"
   ]
  },
  {
   "cell_type": "code",
   "execution_count": 8,
   "metadata": {
    "collapsed": false
   },
   "outputs": [
    {
     "name": "stdout",
     "output_type": "stream",
     "text": [
      "(215000, 32, 32, 3)\n",
      "(215000,)\n"
     ]
    }
   ],
   "source": [
    "## create jittered images, fill each lable with 5000 samples for training\n",
    "from sklearn.utils import resample\n",
    "traget_samples = 5000\n",
    "for label, count in enumerate(unique_counts):\n",
    "    to_be_generated = traget_samples - count\n",
    "    \n",
    "    X_sample, y_sample = resample(X_train[y_train == label], y_train[y_train == label], n_samples=to_be_generated, random_state=42)\n",
    "\n",
    "    X_jittered = np.zeros_like(X_sample)\n",
    "    # apply transform on each image\n",
    "    for idx, image in enumerate(X_sample):\n",
    "        X_jittered[idx] = transform_image(image)\n",
    "        \n",
    "    X_train = np.concatenate((X_train,X_jittered))\n",
    "    y_train = np.concatenate((y_train, y_sample))\n",
    "\n",
    "\n",
    "print(X_train.shape)\n",
    "print(y_train.shape)"
   ]
  },
  {
   "cell_type": "code",
   "execution_count": 9,
   "metadata": {
    "collapsed": false
   },
   "outputs": [
    {
     "name": "stdout",
     "output_type": "stream",
     "text": [
      "165375\n"
     ]
    },
    {
     "data": {
      "text/plain": [
       "<matplotlib.text.Text at 0x7f2db20ddc50>"
      ]
     },
     "execution_count": 9,
     "metadata": {},
     "output_type": "execute_result"
    },
    {
     "data": {
      "image/png": "[encoded data removed]",
      "text/plain": [
       "<matplotlib.figure.Figure at 0x7f2dc0c76b00>"
      ]
     },
     "metadata": {},
     "output_type": "display_data"
    }
   ],
   "source": [
    "# visualize sythetic pictures\n",
    "idx = randint(n_train,len(X_train) - 1)\n",
    "print(idx)\n",
    "plt.imshow(X_train[idx])\n",
    "# show sign name\n",
    "SignName = SignNames[SignNames['ClassId'] == y_train[idx]]['SignName'].values[0]\n",
    "plt.title(SignName)"
   ]
  },
  {
   "cell_type": "code",
   "execution_count": 10,
   "metadata": {
    "collapsed": true
   },
   "outputs": [],
   "source": [
    "# shuffle training set\n",
    "from sklearn.utils import shuffle\n",
    "X_train, y_train = shuffle(X_train, y_train, random_state=42)"
   ]
  },
  {
   "cell_type": "code",
   "execution_count": 11,
   "metadata": {
    "collapsed": false
   },
   "outputs": [
    {
     "data": {
      "text/plain": [
       "<Container object of 43 artists>"
      ]
     },
     "execution_count": 11,
     "metadata": {},
     "output_type": "execute_result"
    },
    {
     "data": {
      "image/png": "[encoded data removed]",
      "text/plain": [
       "<matplotlib.figure.Figure at 0x7f2db1faaa90>"
      ]
     },
     "metadata": {},
     "output_type": "display_data"
    }
   ],
   "source": [
    "# test if label distribution balanced now\n",
    "unique, unique_counts = np.unique(y_train, return_counts=True)\n",
    "plt.bar(unique, unique_counts)"
   ]
  },
  {
   "cell_type": "code",
   "execution_count": 12,
   "metadata": {
    "collapsed": false
   },
   "outputs": [
    {
     "name": "stdout",
     "output_type": "stream",
     "text": [
      " |████████████████████████████████████████████████████████████████████████████████████████████████████| 100%\n",
      " |████████████████████████████████████████████████████████████████████████████████████████████████████| 100%\n",
      " |████████████████████████████████████████████████████████████████████████████████████████████████████| 100%\n",
      "(12630, 32, 32, 1)\n"
     ]
    }
   ],
   "source": [
    "## preprocessing: turn color image to black and white\n",
    "## idea stolen from Yann lecun\n",
    "## code stolen from http://navoshta.com/traffic-signs-classification/\n",
    "import warnings\n",
    "from skimage import exposure\n",
    "\n",
    "# Print iterations progress\n",
    "def print_progress(iteration, total):\n",
    "    \"\"\"\n",
    "    Call in a loop to create terminal progress bar\n",
    "    \n",
    "    Parameters\n",
    "    ----------\n",
    "        \n",
    "    iteration : \n",
    "                Current iteration (Int)\n",
    "    total     : \n",
    "                Total iterations (Int)\n",
    "    \"\"\"\n",
    "    str_format = \"{0:.0f}\"\n",
    "    percents = str_format.format(100 * (iteration / float(total)))\n",
    "    filled_length = int(round(100 * iteration / float(total)))\n",
    "    bar = '█' * filled_length + '-' * (100 - filled_length)\n",
    "\n",
    "    sys.stdout.write('\\r |%s| %s%%' % (bar, percents)),\n",
    "\n",
    "    if iteration == total:\n",
    "        sys.stdout.write('\\n')\n",
    "    sys.stdout.flush()\n",
    "    \n",
    "def gray_scale(X):\n",
    "    #Convert to grayscale, e.g. single Y channel\n",
    "    X = 0.299 * X[:, :, :, 0] + 0.587 * X[:, :, :, 1] + 0.114 * X[:, :, :, 2]\n",
    "    #Scale features to be in [0, 1]\n",
    "    X = (X / 255.).astype(np.float32)\n",
    "\n",
    "    # Apply localized histogram localization\n",
    "    for i in range(X.shape[0]):\n",
    "        # X[i] = exposure.equalize_adapthist(X[i])\n",
    "        with warnings.catch_warnings():\n",
    "            warnings.simplefilter(\"ignore\")\n",
    "            X[i] = exposure.equalize_adapthist(X[i])\n",
    "        print_progress(i + 1, X.shape[0])\n",
    "        \n",
    "    # Add a single grayscale channel\n",
    "    X = X.reshape(X.shape + (1,)) \n",
    "    return X\n",
    "\n",
    "\n",
    "# import warnings\n",
    "\n",
    "# with warnings.catch_warnings():\n",
    "#     warnings.simplefilter(\"ignore\")\n",
    "\n",
    "X_train = gray_scale(X_train)\n",
    "X_validation = gray_scale(X_validation)\n",
    "X_test = gray_scale(X_test)\n",
    "\n",
    "print(X_test.shape)"
   ]
  },
  {
   "cell_type": "code",
   "execution_count": 13,
   "metadata": {
    "collapsed": false
   },
   "outputs": [
    {
     "name": "stdout",
     "output_type": "stream",
     "text": [
      "129947\n"
     ]
    },
    {
     "data": {
      "text/plain": [
       "<matplotlib.text.Text at 0x7f2dc4cdb978>"
      ]
     },
     "execution_count": 13,
     "metadata": {},
     "output_type": "execute_result"
    },
    {
     "data": {
      "image/png": "[encoded data removed]",
      "text/plain": [
       "<matplotlib.figure.Figure at 0x7f2dca744cc0>"
      ]
     },
     "metadata": {},
     "output_type": "display_data"
    }
   ],
   "source": [
    "## show gray scale image\n",
    "idx = randint(n_train,len(X_train) - 1)\n",
    "print(idx)\n",
    "plt.imshow(X_train[idx].squeeze(), cmap='gray')\n",
    "# show sign name\n",
    "SignName = SignNames[SignNames['ClassId'] == y_train[idx]]['SignName'].values[0]\n",
    "plt.title(SignName)"
   ]
  },
  {
   "cell_type": "markdown",
   "metadata": {},
   "source": [
    "----\n",
    "## Step 3: Design and Test a Model Architecture"
   ]
  },
  {
   "cell_type": "markdown",
   "metadata": {},
   "source": [
    "### Implementation\n",
    "\n",
    "Below is an exact implementation of Yan LeCun's NN-model from https://github.com/udacity/CarND-LeNet-Lab/blob/master/LeNet-Lab-Solution.ipynb"
   ]
  },
  {
   "cell_type": "code",
   "execution_count": 14,
   "metadata": {
    "collapsed": true
   },
   "outputs": [],
   "source": [
    "### Shuffle data\n",
    "from sklearn.utils import shuffle\n",
    "X_train, y_train = shuffle(X_train, y_train)"
   ]
  },
  {
   "cell_type": "code",
   "execution_count": 15,
   "metadata": {
    "collapsed": true
   },
   "outputs": [],
   "source": [
    "from tensorflow.contrib.layers import flatten\n",
    "\n",
    "# Arguments used for tf.truncated_normal, randomly defines variables for the weights and biases for each layer\n",
    "mu = 0\n",
    "sigma = 0.1\n",
    "conv1_W = tf.Variable(tf.truncated_normal(shape=(5, 5, 1, 32), mean = mu, stddev = sigma))\n",
    "conv1_b = tf.Variable(tf.zeros(32))\n",
    "conv2_W = tf.Variable(tf.truncated_normal(shape=(5, 5, 32, 64), mean = mu, stddev = sigma))\n",
    "conv2_b = tf.Variable(tf.zeros(64))\n",
    "fc1_W = tf.Variable(tf.truncated_normal(shape=(7872, 1024), mean = mu, stddev = sigma))\n",
    "fc1_b = tf.Variable(tf.zeros(1024))\n",
    "fc2_W  = tf.Variable(tf.truncated_normal(shape=(1024, 1024), mean = mu, stddev = sigma))\n",
    "fc2_b  = tf.Variable(tf.zeros(1024))\n",
    "fc3_W  = tf.Variable(tf.truncated_normal(shape=(1024, 43), mean = mu, stddev = sigma))\n",
    "fc3_b  = tf.Variable(tf.zeros(43))\n",
    "\n",
    "def LeNet(x):    \n",
    "    \n",
    "    # SOLUTION: Layer 1: Convolutional. input 32,32,1, output 28,28,32\n",
    "    conv1   = tf.nn.conv2d(x, conv1_W, strides=[1, 1, 1, 1], padding='VALID') + conv1_b\n",
    "    \n",
    "    # SOLUTION: Activation.\n",
    "    conv1 = tf.nn.relu(conv1)\n",
    "\n",
    "    # SOLUTION: Pooling. input 28,28,32, output 14, 14, 32\n",
    "    pool1 = tf.nn.max_pool(conv1, ksize=[1, 2, 2, 1], strides=[1, 2, 2, 1], padding='VALID')\n",
    "    \n",
    "    # Dropout\n",
    "    tf.nn.dropout(pool1, .5)\n",
    "    \n",
    "    # SOLUTION: Layer 2: Convolutional. input 14,14,32, output 10, 10, 64\n",
    "    conv2   = tf.nn.conv2d(pool1, conv2_W, strides=[1, 1, 1, 1], padding='VALID') + conv2_b\n",
    "    \n",
    "    # SOLUTION: Activation.\n",
    "    conv2 = tf.nn.relu(conv2)\n",
    "\n",
    "    # SOLUTION: Pooling. input 10, 10, 64, output 5,5,64\n",
    "    pool2 = tf.nn.max_pool(conv2, ksize=[1, 2, 2, 1], strides=[1, 2, 2, 1], padding='VALID')\n",
    "\n",
    "    # Dropout\n",
    "    tf.nn.dropout(pool2, .5)\n",
    "    # SOLUTION: Flatten. input 5,5,64 + 14,14,32, output 1600 + 6272 = 7872\n",
    "    fc0   = tf.concat(1, [flatten(pool2), flatten(pool1)])\n",
    "    # Relu\n",
    "    tf.nn.relu(fc0)\n",
    "    # Dropout\n",
    "    tf.nn.dropout(fc0, .5)\n",
    "    \n",
    "    # SOLUTION: Layer 3: Fully Connected. input 7872, output 1024\n",
    "    fc1   = tf.matmul(fc0, fc1_W) + fc1_b\n",
    "    # SOLUTION: Activation.\n",
    "    fc1    = tf.nn.relu(fc1)\n",
    "    # Dropout\n",
    "    tf.nn.dropout(fc1, .5)\n",
    "    \n",
    "    # SOLUTION: Layer 4: Fully Connected. input 1024, output 1024\n",
    "    fc2    = tf.matmul(fc1, fc2_W) + fc2_b\n",
    "    \n",
    "    # SOLUTION: Activation.\n",
    "    fc2    = tf.nn.relu(fc2)\n",
    "    # Dropout\n",
    "    tf.nn.dropout(fc2, .5)\n",
    "    \n",
    "    # SOLUTION: Layer 5: Fully Connected. input 1024, output 43\n",
    "    logits = tf.matmul(fc2, fc3_W) + fc3_b\n",
    "    \n",
    "    # Dropout\n",
    "    tf.nn.dropout(logits, .5) \n",
    "    \n",
    "    return logits"
   ]
  },
  {
   "cell_type": "markdown",
   "metadata": {},
   "source": [
    "#### Training with AdamOptimizer\n"
   ]
  },
  {
   "cell_type": "code",
   "execution_count": 16,
   "metadata": {
    "collapsed": false
   },
   "outputs": [
    {
     "name": "stdout",
     "output_type": "stream",
     "text": [
      "Training...\n",
      "\n",
      "EPOCH 1 ...\n",
      "Training accuracy = 0.716, Validation Accuracy = 0.887\n",
      "\n",
      "EPOCH 2 ...\n",
      "Training accuracy = 0.807, Validation Accuracy = 0.949\n",
      "\n",
      "EPOCH 3 ...\n",
      "Training accuracy = 0.875, Validation Accuracy = 0.965\n",
      "\n",
      "EPOCH 4 ...\n",
      "Training accuracy = 0.920, Validation Accuracy = 0.974\n",
      "\n",
      "EPOCH 5 ...\n",
      "Training accuracy = 0.966, Validation Accuracy = 0.977\n",
      "\n",
      "EPOCH 6 ...\n",
      "Training accuracy = 0.966, Validation Accuracy = 0.983\n",
      "\n",
      "EPOCH 7 ...\n",
      "Training accuracy = 0.989, Validation Accuracy = 0.980\n",
      "\n",
      "EPOCH 8 ...\n",
      "Training accuracy = 1.000, Validation Accuracy = 0.983\n",
      "\n",
      "EPOCH 9 ...\n",
      "Training accuracy = 1.000, Validation Accuracy = 0.988\n",
      "\n",
      "EPOCH 10 ...\n",
      "Training accuracy = 1.000, Validation Accuracy = 0.986\n",
      "\n",
      "EPOCH 11 ...\n",
      "Training accuracy = 1.000, Validation Accuracy = 0.988\n",
      "\n",
      "EPOCH 12 ...\n",
      "Training accuracy = 1.000, Validation Accuracy = 0.987\n",
      "\n",
      "EPOCH 13 ...\n",
      "Training accuracy = 1.000, Validation Accuracy = 0.989\n",
      "\n",
      "EPOCH 14 ...\n",
      "Training accuracy = 1.000, Validation Accuracy = 0.990\n",
      "\n",
      "EPOCH 15 ...\n",
      "Training accuracy = 1.000, Validation Accuracy = 0.988\n",
      "\n",
      "EPOCH 16 ...\n",
      "Training accuracy = 1.000, Validation Accuracy = 0.989\n",
      "\n",
      "EPOCH 17 ...\n",
      "Training accuracy = 1.000, Validation Accuracy = 0.988\n",
      "\n",
      "EPOCH 18 ...\n",
      "Training accuracy = 1.000, Validation Accuracy = 0.987\n",
      "\n",
      "EPOCH 19 ...\n",
      "Training accuracy = 1.000, Validation Accuracy = 0.989\n",
      "\n",
      "EPOCH 20 ...\n",
      "Training accuracy = 1.000, Validation Accuracy = 0.992\n",
      "\n",
      "EPOCH 21 ...\n",
      "Training accuracy = 1.000, Validation Accuracy = 0.990\n",
      "\n",
      "EPOCH 22 ...\n",
      "Training accuracy = 1.000, Validation Accuracy = 0.992\n",
      "\n",
      "EPOCH 23 ...\n",
      "Training accuracy = 1.000, Validation Accuracy = 0.992\n",
      "\n",
      "EPOCH 24 ...\n",
      "Training accuracy = 1.000, Validation Accuracy = 0.992\n",
      "\n",
      "EPOCH 25 ...\n",
      "Training accuracy = 1.000, Validation Accuracy = 0.991\n",
      "\n",
      "EPOCH 26 ...\n",
      "Training accuracy = 1.000, Validation Accuracy = 0.992\n",
      "\n",
      "EPOCH 27 ...\n",
      "Training accuracy = 1.000, Validation Accuracy = 0.992\n",
      "\n",
      "EPOCH 28 ...\n",
      "Training accuracy = 1.000, Validation Accuracy = 0.992\n",
      "\n",
      "EPOCH 29 ...\n",
      "Training accuracy = 1.000, Validation Accuracy = 0.992\n",
      "\n",
      "EPOCH 30 ...\n",
      "Training accuracy = 1.000, Validation Accuracy = 0.992\n",
      "\n",
      "EPOCH 31 ...\n",
      "Training accuracy = 1.000, Validation Accuracy = 0.992\n",
      "\n",
      "EPOCH 32 ...\n",
      "Training accuracy = 1.000, Validation Accuracy = 0.990\n",
      "\n",
      "EPOCH 33 ...\n",
      "Training accuracy = 1.000, Validation Accuracy = 0.993\n",
      "\n",
      "EPOCH 34 ...\n",
      "Training accuracy = 1.000, Validation Accuracy = 0.989\n",
      "\n",
      "EPOCH 35 ...\n",
      "Training accuracy = 1.000, Validation Accuracy = 0.991\n",
      "\n",
      "EPOCH 36 ...\n",
      "Training accuracy = 1.000, Validation Accuracy = 0.993\n",
      "\n",
      "EPOCH 37 ...\n",
      "Training accuracy = 1.000, Validation Accuracy = 0.993\n",
      "\n",
      "EPOCH 38 ...\n",
      "Training accuracy = 1.000, Validation Accuracy = 0.992\n",
      "\n",
      "EPOCH 39 ...\n",
      "Training accuracy = 1.000, Validation Accuracy = 0.989\n",
      "\n",
      "EPOCH 40 ...\n",
      "Training accuracy = 1.000, Validation Accuracy = 0.991\n",
      "\n",
      "EPOCH 41 ...\n",
      "Training accuracy = 1.000, Validation Accuracy = 0.993\n",
      "\n",
      "EPOCH 42 ...\n",
      "Training accuracy = 1.000, Validation Accuracy = 0.993\n",
      "\n",
      "EPOCH 43 ...\n",
      "Training accuracy = 1.000, Validation Accuracy = 0.992\n",
      "\n",
      "EPOCH 44 ...\n",
      "Training accuracy = 1.000, Validation Accuracy = 0.994\n",
      "\n",
      "EPOCH 45 ...\n",
      "Training accuracy = 1.000, Validation Accuracy = 0.990\n",
      "\n",
      "EPOCH 46 ...\n",
      "Training accuracy = 1.000, Validation Accuracy = 0.991\n",
      "\n",
      "EPOCH 47 ...\n",
      "Training accuracy = 1.000, Validation Accuracy = 0.992\n",
      "\n",
      "EPOCH 48 ...\n",
      "Training accuracy = 1.000, Validation Accuracy = 0.992\n",
      "\n",
      "EPOCH 49 ...\n",
      "Training accuracy = 1.000, Validation Accuracy = 0.993\n",
      "\n",
      "EPOCH 50 ...\n",
      "Training accuracy = 1.000, Validation Accuracy = 0.994\n",
      "\n",
      "EPOCH 51 ...\n",
      "Training accuracy = 1.000, Validation Accuracy = 0.994\n",
      "\n",
      "EPOCH 52 ...\n",
      "Training accuracy = 1.000, Validation Accuracy = 0.993\n",
      "\n",
      "EPOCH 53 ...\n",
      "Training accuracy = 1.000, Validation Accuracy = 0.994\n",
      "\n",
      "EPOCH 54 ...\n",
      "Training accuracy = 1.000, Validation Accuracy = 0.993\n",
      "\n",
      "EPOCH 55 ...\n",
      "Training accuracy = 1.000, Validation Accuracy = 0.995\n",
      "\n",
      "EPOCH 56 ...\n",
      "Training accuracy = 1.000, Validation Accuracy = 0.993\n",
      "\n",
      "EPOCH 57 ...\n",
      "Training accuracy = 1.000, Validation Accuracy = 0.994\n",
      "\n",
      "EPOCH 58 ...\n",
      "Training accuracy = 1.000, Validation Accuracy = 0.995\n",
      "\n",
      "EPOCH 59 ...\n",
      "Training accuracy = 1.000, Validation Accuracy = 0.993\n",
      "\n",
      "EPOCH 60 ...\n",
      "Training accuracy = 1.000, Validation Accuracy = 0.995\n",
      "\n",
      "EPOCH 61 ...\n",
      "Training accuracy = 1.000, Validation Accuracy = 0.994\n",
      "\n",
      "EPOCH 62 ...\n",
      "Training accuracy = 1.000, Validation Accuracy = 0.994\n",
      "\n",
      "EPOCH 63 ...\n",
      "Training accuracy = 1.000, Validation Accuracy = 0.994\n",
      "\n",
      "EPOCH 64 ...\n",
      "Training accuracy = 1.000, Validation Accuracy = 0.991\n",
      "\n",
      "EPOCH 65 ...\n",
      "Training accuracy = 1.000, Validation Accuracy = 0.995\n",
      "\n",
      "EPOCH 66 ...\n",
      "Training accuracy = 1.000, Validation Accuracy = 0.992\n",
      "\n",
      "EPOCH 67 ...\n",
      "Training accuracy = 1.000, Validation Accuracy = 0.994\n",
      "\n",
      "EPOCH 68 ...\n",
      "Training accuracy = 1.000, Validation Accuracy = 0.994\n",
      "\n",
      "EPOCH 69 ...\n",
      "Training accuracy = 1.000, Validation Accuracy = 0.991\n",
      "\n",
      "EPOCH 70 ...\n",
      "Training accuracy = 1.000, Validation Accuracy = 0.990\n",
      "\n",
      "EPOCH 71 ...\n",
      "Training accuracy = 1.000, Validation Accuracy = 0.996\n",
      "\n",
      "EPOCH 72 ...\n",
      "Training accuracy = 1.000, Validation Accuracy = 0.994\n",
      "\n",
      "EPOCH 73 ...\n",
      "Training accuracy = 1.000, Validation Accuracy = 0.992\n",
      "\n",
      "EPOCH 74 ...\n",
      "Training accuracy = 1.000, Validation Accuracy = 0.995\n",
      "\n",
      "EPOCH 75 ...\n",
      "Training accuracy = 1.000, Validation Accuracy = 0.995\n",
      "\n",
      "EPOCH 76 ...\n",
      "Training accuracy = 1.000, Validation Accuracy = 0.990\n",
      "\n",
      "EPOCH 77 ...\n",
      "Training accuracy = 1.000, Validation Accuracy = 0.995\n",
      "\n",
      "EPOCH 78 ...\n",
      "Training accuracy = 1.000, Validation Accuracy = 0.995\n",
      "\n",
      "EPOCH 79 ...\n",
      "Training accuracy = 1.000, Validation Accuracy = 0.994\n",
      "\n",
      "EPOCH 80 ...\n",
      "Training accuracy = 1.000, Validation Accuracy = 0.995\n",
      "\n",
      "EPOCH 81 ...\n",
      "Training accuracy = 1.000, Validation Accuracy = 0.996\n",
      "\n",
      "EPOCH 82 ...\n",
      "Training accuracy = 1.000, Validation Accuracy = 0.995\n",
      "\n",
      "EPOCH 83 ...\n",
      "Training accuracy = 1.000, Validation Accuracy = 0.995\n",
      "\n",
      "EPOCH 84 ...\n",
      "Training accuracy = 1.000, Validation Accuracy = 0.995\n",
      "\n",
      "EPOCH 85 ...\n",
      "Training accuracy = 1.000, Validation Accuracy = 0.996\n",
      "\n",
      "EPOCH 86 ...\n",
      "Training accuracy = 1.000, Validation Accuracy = 0.995\n",
      "\n",
      "EPOCH 87 ...\n",
      "Training accuracy = 1.000, Validation Accuracy = 0.997\n",
      "\n",
      "EPOCH 88 ...\n",
      "Training accuracy = 1.000, Validation Accuracy = 0.995\n",
      "\n",
      "EPOCH 89 ...\n",
      "Training accuracy = 1.000, Validation Accuracy = 0.995\n",
      "\n",
      "EPOCH 90 ...\n",
      "Training accuracy = 1.000, Validation Accuracy = 0.996\n",
      "\n",
      "EPOCH 91 ...\n",
      "Training accuracy = 1.000, Validation Accuracy = 0.996\n",
      "\n",
      "EPOCH 92 ...\n",
      "Training accuracy = 1.000, Validation Accuracy = 0.995\n",
      "\n",
      "EPOCH 93 ...\n",
      "Training accuracy = 1.000, Validation Accuracy = 0.991\n",
      "\n",
      "EPOCH 94 ...\n",
      "Training accuracy = 1.000, Validation Accuracy = 0.995\n",
      "\n",
      "EPOCH 95 ...\n",
      "Training accuracy = 1.000, Validation Accuracy = 0.997\n",
      "\n",
      "EPOCH 96 ...\n",
      "Training accuracy = 1.000, Validation Accuracy = 0.995\n",
      "\n",
      "EPOCH 97 ...\n",
      "Training accuracy = 1.000, Validation Accuracy = 0.993\n",
      "\n",
      "EPOCH 98 ...\n",
      "Training accuracy = 1.000, Validation Accuracy = 0.994\n",
      "\n",
      "Early stop at epoch 97\n",
      "Model saved\n"
     ]
    }
   ],
   "source": [
    "### Training\n",
    "\n",
    "EPOCHS = 100\n",
    "BATCH_SIZE = 128\n",
    "\n",
    "x = tf.placeholder(tf.float32, (None, 32, 32, 1))\n",
    "y = tf.placeholder(tf.int32, (None))\n",
    "one_hot_y = tf.one_hot(y, 43)\n",
    "\n",
    "rate = 1e-4\n",
    "lamda = 1e-5\n",
    "\n",
    "logits = LeNet(x)\n",
    "cross_entropy = tf.nn.softmax_cross_entropy_with_logits(logits, one_hot_y)\n",
    "## L2 regularization for weights\n",
    "l2_loss = lamda * (tf.nn.l2_loss(conv1_W) + tf.nn.l2_loss(conv2_W) + tf.nn.l2_loss(fc1_W) + tf.nn.l2_loss(fc2_W) + tf.nn.l2_loss(fc3_W))\n",
    "loss_operation = tf.reduce_mean(cross_entropy + l2_loss)\n",
    "\n",
    "optimizer = tf.train.AdamOptimizer(learning_rate = rate)\n",
    "training_operation = optimizer.minimize(loss_operation)\n",
    "\n",
    "correct_prediction = tf.equal(tf.argmax(logits, 1), tf.argmax(one_hot_y, 1))\n",
    "accuracy_operation = tf.reduce_mean(tf.cast(correct_prediction, tf.float32))\n",
    "saver = tf.train.Saver()\n",
    "\n",
    "def evaluate(X_data, y_data):\n",
    "    num_examples = len(X_data)\n",
    "    total_accuracy = 0\n",
    "    sess = tf.get_default_session()\n",
    "    for offset in range(0, num_examples, BATCH_SIZE):\n",
    "        batch_x, batch_y = X_data[offset:offset+BATCH_SIZE], y_data[offset:offset+BATCH_SIZE]\n",
    "        accuracy = sess.run(accuracy_operation, feed_dict={x: batch_x, y: batch_y})\n",
    "        total_accuracy += (accuracy * len(batch_x))\n",
    "    return total_accuracy / num_examples\n",
    "\n",
    "with tf.Session() as sess:\n",
    "    sess.run(tf.global_variables_initializer())\n",
    "    num_examples = len(X_train)\n",
    "    \n",
    "    print(\"Training...\")\n",
    "    print()\n",
    "    train_acc_list = []\n",
    "    validation_acc_list = []\n",
    "    \n",
    "\n",
    "    max_accuracy = .0\n",
    "    non_improve_counter = 0\n",
    "    for i in range(EPOCHS):\n",
    "        X_train, y_train = shuffle(X_train, y_train)\n",
    "        for offset in range(0, num_examples, BATCH_SIZE):\n",
    "            end = offset + BATCH_SIZE\n",
    "            batch_x, batch_y = X_train[offset:end], y_train[offset:end]\n",
    "            sess.run(training_operation, feed_dict={x: batch_x, y: batch_y})\n",
    "            \n",
    "        mini_batch_accuracy = evaluate(batch_x, batch_y)\n",
    "        validation_accuracy = evaluate(X_validation, y_validation)\n",
    "\n",
    "        train_acc_list.append(mini_batch_accuracy)\n",
    "        validation_acc_list.append(validation_accuracy)\n",
    "        print(\"EPOCH {} ...\".format(i+1))\n",
    "        print(\"Training accuracy = {:.3f}, Validation Accuracy = {:.3f}\".format(mini_batch_accuracy, validation_accuracy))\n",
    "        print()\n",
    "        \n",
    "        if validation_accuracy > max_accuracy:\n",
    "            max_accuracy = validation_accuracy\n",
    "            non_improve_counter = 0\n",
    "        else:\n",
    "            non_improve_counter += 1\n",
    "        \n",
    "        # early stop if accuracy does not improve in 10 epochs\n",
    "        if non_improve_counter > 10:\n",
    "            print(\"Early stop at epoch {}\".format(i))\n",
    "            break\n",
    "        \n",
    "    saver.save(sess, './lenet')\n",
    "    print(\"Model saved\")"
   ]
  },
  {
   "cell_type": "code",
   "execution_count": 17,
   "metadata": {
    "collapsed": false
   },
   "outputs": [
    {
     "name": "stdout",
     "output_type": "stream",
     "text": [
      "Test Accuracy = 0.953\n"
     ]
    }
   ],
   "source": [
    "with tf.Session() as sess:\n",
    "    new_saver = tf.train.import_meta_graph('./lenet.meta')\n",
    "    new_saver.restore(sess, tf.train.latest_checkpoint('.'))\n",
    "    \n",
    "    test_accuracy = evaluate(X_test, y_test)\n",
    "    print(\"Test Accuracy = {:.3f}\".format(test_accuracy))"
   ]
  },
  {
   "cell_type": "code",
   "execution_count": 18,
   "metadata": {
    "collapsed": false
   },
   "outputs": [
    {
     "data": {
      "text/plain": [
       "<matplotlib.legend.Legend at 0x7f2da814d320>"
      ]
     },
     "execution_count": 18,
     "metadata": {},
     "output_type": "execute_result"
    },
    {
     "data": {
      "image/png": "[encoded data removed]",
      "text/plain": [
       "<matplotlib.figure.Figure at 0x7f2dc4d01dd8>"
      ]
     },
     "metadata": {},
     "output_type": "display_data"
    }
   ],
   "source": [
    "plt.plot(np.arange(len(train_acc_list)), train_acc_list, 'r', np.arange(len(validation_acc_list)), validation_acc_list, 'g')\n",
    "plt.title(\"Accuracy\")\n",
    "plt.legend(['training', 'validation'])"
   ]
  },
  {
   "cell_type": "code",
   "execution_count": null,
   "metadata": {
    "collapsed": true
   },
   "outputs": [],
   "source": []
  }
 ],
 "metadata": {
  "anaconda-cloud": {},
  "kernelspec": {
   "display_name": "Python 3",
   "language": "python",
   "name": "python3"
  },
  "language_info": {
   "codemirror_mode": {
    "name": "ipython",
    "version": 3
   },
   "file_extension": ".py",
   "mimetype": "text/x-python",
   "name": "python",
   "nbconvert_exporter": "python",
   "pygments_lexer": "ipython3",
   "version": "3.6.0"
  }
 },
 "nbformat": 4,
 "nbformat_minor": 1
}
